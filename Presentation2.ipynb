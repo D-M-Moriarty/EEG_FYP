{
 "cells": [
  {
   "cell_type": "markdown",
   "metadata": {},
   "source": [
    "# import data from csv files"
   ]
  },
  {
   "cell_type": "code",
   "execution_count": null,
   "metadata": {},
   "outputs": [
    {
     "data": {
      "text/html": [
       "<div>\n",
       "<style scoped>\n",
       "    .dataframe tbody tr th:only-of-type {\n",
       "        vertical-align: middle;\n",
       "    }\n",
       "\n",
       "    .dataframe tbody tr th {\n",
       "        vertical-align: top;\n",
       "    }\n",
       "\n",
       "    .dataframe thead th {\n",
       "        text-align: right;\n",
       "    }\n",
       "</style>\n",
       "<table border=\"1\" class=\"dataframe\">\n",
       "  <thead>\n",
       "    <tr style=\"text-align: right;\">\n",
       "      <th></th>\n",
       "      <th>timestampMs</th>\n",
       "      <th>poorSignal</th>\n",
       "      <th>eegRawValue</th>\n",
       "      <th>eegRawValueVolts</th>\n",
       "      <th>attention</th>\n",
       "      <th>meditation</th>\n",
       "      <th>blinkStrength</th>\n",
       "      <th>delta</th>\n",
       "      <th>theta</th>\n",
       "      <th>alphaLow</th>\n",
       "      <th>alphaHigh</th>\n",
       "      <th>betaLow</th>\n",
       "      <th>betaHigh</th>\n",
       "      <th>gammaLow</th>\n",
       "      <th>gammaMid</th>\n",
       "      <th>action</th>\n",
       "    </tr>\n",
       "  </thead>\n",
       "  <tbody>\n",
       "    <tr>\n",
       "      <th>0</th>\n",
       "      <td>1.544360e+12</td>\n",
       "      <td>0</td>\n",
       "      <td>6</td>\n",
       "      <td>0.000001</td>\n",
       "      <td>50</td>\n",
       "      <td>51</td>\n",
       "      <td>39</td>\n",
       "      <td>522632</td>\n",
       "      <td>82675</td>\n",
       "      <td>16772926</td>\n",
       "      <td>16745932</td>\n",
       "      <td>76060</td>\n",
       "      <td>13388</td>\n",
       "      <td>26761</td>\n",
       "      <td>13100</td>\n",
       "      <td>down</td>\n",
       "    </tr>\n",
       "    <tr>\n",
       "      <th>1</th>\n",
       "      <td>1.544360e+12</td>\n",
       "      <td>0</td>\n",
       "      <td>-275</td>\n",
       "      <td>-0.000060</td>\n",
       "      <td>50</td>\n",
       "      <td>51</td>\n",
       "      <td>39</td>\n",
       "      <td>522632</td>\n",
       "      <td>82675</td>\n",
       "      <td>16772926</td>\n",
       "      <td>16745932</td>\n",
       "      <td>76060</td>\n",
       "      <td>13388</td>\n",
       "      <td>26761</td>\n",
       "      <td>13100</td>\n",
       "      <td>down</td>\n",
       "    </tr>\n",
       "    <tr>\n",
       "      <th>2</th>\n",
       "      <td>1.544360e+12</td>\n",
       "      <td>0</td>\n",
       "      <td>-289</td>\n",
       "      <td>-0.000063</td>\n",
       "      <td>50</td>\n",
       "      <td>51</td>\n",
       "      <td>39</td>\n",
       "      <td>522632</td>\n",
       "      <td>82675</td>\n",
       "      <td>16772926</td>\n",
       "      <td>16745932</td>\n",
       "      <td>76060</td>\n",
       "      <td>13388</td>\n",
       "      <td>26761</td>\n",
       "      <td>13100</td>\n",
       "      <td>down</td>\n",
       "    </tr>\n",
       "    <tr>\n",
       "      <th>3</th>\n",
       "      <td>1.544360e+12</td>\n",
       "      <td>0</td>\n",
       "      <td>6</td>\n",
       "      <td>0.000001</td>\n",
       "      <td>50</td>\n",
       "      <td>51</td>\n",
       "      <td>39</td>\n",
       "      <td>522632</td>\n",
       "      <td>82675</td>\n",
       "      <td>16772926</td>\n",
       "      <td>16745932</td>\n",
       "      <td>76060</td>\n",
       "      <td>13388</td>\n",
       "      <td>26761</td>\n",
       "      <td>13100</td>\n",
       "      <td>down</td>\n",
       "    </tr>\n",
       "    <tr>\n",
       "      <th>4</th>\n",
       "      <td>1.544360e+12</td>\n",
       "      <td>0</td>\n",
       "      <td>51</td>\n",
       "      <td>0.000011</td>\n",
       "      <td>50</td>\n",
       "      <td>51</td>\n",
       "      <td>39</td>\n",
       "      <td>522632</td>\n",
       "      <td>82675</td>\n",
       "      <td>16772926</td>\n",
       "      <td>16745932</td>\n",
       "      <td>76060</td>\n",
       "      <td>13388</td>\n",
       "      <td>26761</td>\n",
       "      <td>13100</td>\n",
       "      <td>down</td>\n",
       "    </tr>\n",
       "  </tbody>\n",
       "</table>\n",
       "</div>"
      ],
      "text/plain": [
       "    timestampMs  poorSignal  eegRawValue  eegRawValueVolts  attention  \\\n",
       "0  1.544360e+12           0            6          0.000001         50   \n",
       "1  1.544360e+12           0         -275         -0.000060         50   \n",
       "2  1.544360e+12           0         -289         -0.000063         50   \n",
       "3  1.544360e+12           0            6          0.000001         50   \n",
       "4  1.544360e+12           0           51          0.000011         50   \n",
       "\n",
       "   meditation  blinkStrength   delta  theta  alphaLow  alphaHigh  betaLow  \\\n",
       "0          51             39  522632  82675  16772926   16745932    76060   \n",
       "1          51             39  522632  82675  16772926   16745932    76060   \n",
       "2          51             39  522632  82675  16772926   16745932    76060   \n",
       "3          51             39  522632  82675  16772926   16745932    76060   \n",
       "4          51             39  522632  82675  16772926   16745932    76060   \n",
       "\n",
       "   betaHigh  gammaLow  gammaMid action  \n",
       "0     13388     26761     13100   down  \n",
       "1     13388     26761     13100   down  \n",
       "2     13388     26761     13100   down  \n",
       "3     13388     26761     13100   down  \n",
       "4     13388     26761     13100   down  "
      ]
     },
     "execution_count": 1,
     "metadata": {},
     "output_type": "execute_result"
    }
   ],
   "source": [
    "import pandas as pd\n",
    "import numpy as np\n",
    "from sklearn import model_selection\n",
    "from sklearn.ensemble import RandomForestClassifier\n",
    "from sklearn.model_selection import train_test_split\n",
    "from sklearn.preprocessing import LabelBinarizer\n",
    "\n",
    "updf1 = pd.read_csv(\"./data_files/up/upFor5(1).csv\")\n",
    "updf2 = pd.read_csv(\"./data_files/up/upFor5(2).csv\")\n",
    "updf3 = pd.read_csv(\"./data_files/up/upFor5(3).csv\")\n",
    "updf4 = pd.read_csv(\"./data_files/up/upFor5(4).csv\")\n",
    "updf5 = pd.read_csv(\"./data_files/up/upFor5(5).csv\")\n",
    "downdf1 = pd.read_csv(\"./data_files/down/downFor5(1).csv\")\n",
    "downdf2 = pd.read_csv(\"./data_files/down/downFor5(2).csv\")\n",
    "downdf3 = pd.read_csv(\"./data_files/down/downFor5(3).csv\")\n",
    "downdf4 = pd.read_csv(\"./data_files/down/downFor5(4).csv\")\n",
    "downdf5 = pd.read_csv(\"./data_files/down/downFor5(5).csv\")\n",
    "frames = [downdf1, downdf2, downdf3, downdf4, downdf5, updf1, updf2, updf3, updf4, updf5]\n",
    "df = pd.concat(frames)\n",
    "\n",
    "df.head()"
   ]
  },
  {
   "cell_type": "code",
   "execution_count": 2,
   "metadata": {},
   "outputs": [
    {
     "data": {
      "image/png": "[encoded data removed]",
      "text/plain": [
       "<Figure size 1440x1080 with 16 Axes>"
      ]
     },
     "metadata": {
      "needs_background": "light"
     },
     "output_type": "display_data"
    }
   ],
   "source": [
    "%matplotlib inline \n",
    "import matplotlib.pyplot as plt \n",
    "df.hist(bins=50, figsize=(20,15)) \n",
    "plt.show()"
   ]
  },
  {
   "cell_type": "code",
   "execution_count": 3,
   "metadata": {},
   "outputs": [
    {
     "data": {
      "image/png": "[encoded data removed]",
      "text/plain": [
       "<Figure size 432x288 with 1 Axes>"
      ]
     },
     "metadata": {
      "needs_background": "light"
     },
     "output_type": "display_data"
    }
   ],
   "source": [
    "plt.plot(df.eegRawValue.values)\n",
    "plt.ylabel('Hz')\n",
    "plt.title('eegRawValue')\n",
    "plt.show()"
   ]
  },
  {
   "cell_type": "code",
   "execution_count": 4,
   "metadata": {},
   "outputs": [
    {
     "data": {
      "image/png": "[encoded data removed]",
      "text/plain": [
       "<Figure size 432x288 with 1 Axes>"
      ]
     },
     "metadata": {
      "needs_background": "light"
     },
     "output_type": "display_data"
    }
   ],
   "source": [
    "plt.plot(df.gammaMid.values)\n",
    "plt.ylabel('Hz')\n",
    "plt.title('gammaMid')\n",
    "plt.show()"
   ]
  },
  {
   "cell_type": "markdown",
   "metadata": {},
   "source": [
    "# Creating a 2d array of brain wave values"
   ]
  },
  {
   "cell_type": "code",
   "execution_count": 5,
   "metadata": {},
   "outputs": [],
   "source": [
    "# create an array of shape 30706, 9 = number of records by the features\n",
    "data = np.array([[0 for x in range(9)] for y in range(len(df))])\n",
    "for i in range(len(df)):\n",
    "    data[i] = [df.eegRawValue.values[i],\n",
    "               df.delta.values[i],\n",
    "               df.theta.values[i],\n",
    "               df.alphaLow.values[i],\n",
    "               df.alphaHigh.values[i],\n",
    "               df.betaLow.values[i],\n",
    "               df.betaHigh.values[i],\n",
    "               df.gammaLow.values[i],\n",
    "               df.gammaMid.values[i]]"
   ]
  },
  {
   "cell_type": "code",
   "execution_count": 13,
   "metadata": {},
   "outputs": [
    {
     "data": {
      "text/plain": [
       "array([[       6,   522632,    82675, ...,    13388,    26761,    13100],\n",
       "       [    -275,   522632,    82675, ...,    13388,    26761,    13100],\n",
       "       [    -289,   522632,    82675, ...,    13388,    26761,    13100],\n",
       "       ...,\n",
       "       [      58,   479427,    76283, ...,    30074, 16748195,     3664],\n",
       "       [      69,   479427,    76283, ...,    30074, 16748195,     3664],\n",
       "       [      82,   479427,    76283, ...,    30074, 16748195,     3664]])"
      ]
     },
     "execution_count": 13,
     "metadata": {},
     "output_type": "execute_result"
    }
   ],
   "source": [
    "data"
   ]
  },
  {
   "cell_type": "code",
   "execution_count": 6,
   "metadata": {},
   "outputs": [
    {
     "data": {
      "text/plain": [
       "array([[0],\n",
       "       [0],\n",
       "       [0],\n",
       "       ...,\n",
       "       [1],\n",
       "       [1],\n",
       "       [1]])"
      ]
     },
     "execution_count": 6,
     "metadata": {},
     "output_type": "execute_result"
    }
   ],
   "source": [
    "encoder = LabelBinarizer()\n",
    "labels = encoder.fit_transform(df.action.values)\n",
    "labels"
   ]
  },
  {
   "cell_type": "code",
   "execution_count": 15,
   "metadata": {},
   "outputs": [
    {
     "data": {
      "text/plain": [
       "array(['down', 'down', 'down', ..., 'up', 'up', 'up'], dtype=object)"
      ]
     },
     "execution_count": 15,
     "metadata": {},
     "output_type": "execute_result"
    }
   ],
   "source": [
    "df.action.values"
   ]
  },
  {
   "cell_type": "markdown",
   "metadata": {},
   "source": [
    "# Create training and test sets"
   ]
  },
  {
   "cell_type": "code",
   "execution_count": 7,
   "metadata": {},
   "outputs": [],
   "source": [
    "# creating training and test sets\n",
    "x_train, x_test, y_train, y_test = train_test_split(data, labels, test_size=0.2)"
   ]
  },
  {
   "cell_type": "markdown",
   "metadata": {},
   "source": [
    "Check that labels are random"
   ]
  },
  {
   "cell_type": "code",
   "execution_count": 8,
   "metadata": {},
   "outputs": [
    {
     "data": {
      "text/plain": [
       "array([[0],\n",
       "       [1],\n",
       "       [1],\n",
       "       ...,\n",
       "       [1],\n",
       "       [1],\n",
       "       [0]])"
      ]
     },
     "execution_count": 8,
     "metadata": {},
     "output_type": "execute_result"
    }
   ],
   "source": [
    "y_train"
   ]
  },
  {
   "cell_type": "markdown",
   "metadata": {},
   "source": [
    "Train model with Random Forest"
   ]
  },
  {
   "cell_type": "code",
   "execution_count": 17,
   "metadata": {},
   "outputs": [
    {
     "name": "stderr",
     "output_type": "stream",
     "text": [
      "/Users/darrenmoriarty/anaconda3/lib/python3.6/site-packages/sklearn/ensemble/forest.py:248: FutureWarning: The default value of n_estimators will change from 10 in version 0.20 to 100 in 0.22.\n",
      "  \"10 in version 0.20 to 100 in 0.22.\", FutureWarning)\n",
      "/Users/darrenmoriarty/anaconda3/lib/python3.6/site-packages/ipykernel_launcher.py:3: DataConversionWarning: A column-vector y was passed when a 1d array was expected. Please change the shape of y to (n_samples,), for example using ravel().\n",
      "  This is separate from the ipykernel package so we can avoid doing imports until\n"
     ]
    },
    {
     "data": {
      "text/plain": [
       "RandomForestClassifier(bootstrap=True, class_weight=None, criterion='gini',\n",
       "            max_depth=None, max_features='auto', max_leaf_nodes=None,\n",
       "            min_impurity_decrease=0.0, min_impurity_split=None,\n",
       "            min_samples_leaf=1, min_samples_split=2,\n",
       "            min_weight_fraction_leaf=0.0, n_estimators=10, n_jobs=None,\n",
       "            oob_score=False, random_state=None, verbose=0,\n",
       "            warm_start=False)"
      ]
     },
     "execution_count": 17,
     "metadata": {},
     "output_type": "execute_result"
    }
   ],
   "source": [
    "# Random Forrest\n",
    "rfc = RandomForestClassifier()\n",
    "rfc.fit(x_train, y_train)"
   ]
  },
  {
   "cell_type": "markdown",
   "metadata": {},
   "source": [
    "Predict the test set and show the accuracy"
   ]
  },
  {
   "cell_type": "code",
   "execution_count": 18,
   "metadata": {},
   "outputs": [
    {
     "name": "stdout",
     "output_type": "stream",
     "text": [
      "The score for Random Forest  1.0\n",
      "The prediction for the test set is  [1 0 1 ... 1 0 0]\n",
      "20462\n",
      "Accuracy for x_test: 1.0\n"
     ]
    }
   ],
   "source": [
    "print(\"The score for Random Forest \", rfc.score(x_test, y_test))\n",
    "y_pred = rfc.predict(x_test)\n",
    "print(\"The prediction for the test set is \", y_pred)\n",
    "#Import scikit-learn metrics module for accuracy calculation\n",
    "from sklearn import metrics\n",
    "# Model Accuracy, how often is the classifier correct?\n",
    "print(len(y_train))\n",
    "print(\"Accuracy for x_test:\", metrics.accuracy_score(y_test, y_pred))"
   ]
  },
  {
   "cell_type": "code",
   "execution_count": 19,
   "metadata": {},
   "outputs": [
    {
     "name": "stderr",
     "output_type": "stream",
     "text": [
      "No handles with labels found to put in legend.\n"
     ]
    },
    {
     "data": {
      "image/png": "[encoded data removed]",
      "text/plain": [
       "<Figure size 432x288 with 1 Axes>"
      ]
     },
     "metadata": {
      "needs_background": "light"
     },
     "output_type": "display_data"
    }
   ],
   "source": [
    "import pandas as pd\n",
    "feature_imp = pd.Series(rfc.feature_importances_).sort_values(ascending=False)\n",
    "feature_imp\n",
    "import matplotlib.pyplot as plt\n",
    "import seaborn as sns\n",
    "\n",
    "# Creating a bar plot\n",
    "sns.barplot(x=feature_imp, y=feature_imp.index)\n",
    "# Add labels to your graph\n",
    "plt.xlabel('Feature Importance Score')\n",
    "plt.ylabel('Features')\n",
    "plt.title(\"Visualizing Important Features from Random Forest\")\n",
    "plt.legend()\n",
    "plt.show()"
   ]
  },
  {
   "cell_type": "markdown",
   "metadata": {},
   "source": [
    "# XGBoost"
   ]
  },
  {
   "cell_type": "code",
   "execution_count": 29,
   "metadata": {},
   "outputs": [
    {
     "name": "stderr",
     "output_type": "stream",
     "text": [
      "/Users/darrenmoriarty/anaconda3/lib/python3.6/site-packages/sklearn/preprocessing/label.py:219: DataConversionWarning: A column-vector y was passed when a 1d array was expected. Please change the shape of y to (n_samples, ), for example using ravel().\n",
      "  y = column_or_1d(y, warn=True)\n",
      "/Users/darrenmoriarty/anaconda3/lib/python3.6/site-packages/sklearn/preprocessing/label.py:252: DataConversionWarning: A column-vector y was passed when a 1d array was expected. Please change the shape of y to (n_samples, ), for example using ravel().\n",
      "  y = column_or_1d(y, warn=True)\n"
     ]
    },
    {
     "name": "stdout",
     "output_type": "stream",
     "text": [
      "The score for XGBoost  1.0\n",
      "The prediction for the test set is  [1 0 1 ... 1 0 0]\n"
     ]
    }
   ],
   "source": [
    "# XGBoost\n",
    "from xgboost import XGBClassifier\n",
    "xgb = XGBClassifier()\n",
    "xgb.fit(x_train, y_train)\n",
    "print(\"The score for XGBoost \", xgb.score(x_test, y_test))\n",
    "y_pred = xgb.predict(x_test)\n",
    "print(\"The prediction for the test set is \", y_pred)"
   ]
  },
  {
   "cell_type": "code",
   "execution_count": 30,
   "metadata": {},
   "outputs": [
    {
     "name": "stdout",
     "output_type": "stream",
     "text": [
      "Accuracy for x_test: 1.0\n"
     ]
    }
   ],
   "source": [
    "print(\"Accuracy for x_test:\", metrics.accuracy_score(y_test, y_pred))"
   ]
  },
  {
   "cell_type": "markdown",
   "metadata": {},
   "source": [
    "Accuracy cant be this good\n"
   ]
  },
  {
   "cell_type": "code",
   "execution_count": 32,
   "metadata": {},
   "outputs": [
    {
     "name": "stderr",
     "output_type": "stream",
     "text": [
      "No handles with labels found to put in legend.\n"
     ]
    },
    {
     "data": {
      "image/png": "[encoded data removed]",
      "text/plain": [
       "<Figure size 432x288 with 1 Axes>"
      ]
     },
     "metadata": {
      "needs_background": "light"
     },
     "output_type": "display_data"
    }
   ],
   "source": [
    "# Creating a bar plot\n",
    "sns.barplot(x=feature_imp, y=feature_imp.index)\n",
    "plt.xlabel('Feature Importance Score')\n",
    "plt.ylabel('Features')\n",
    "plt.title(\"Visualizing Important Features from XGBoost\")\n",
    "plt.legend()\n",
    "plt.show()"
   ]
  },
  {
   "cell_type": "markdown",
   "metadata": {},
   "source": [
    "# Shallow Neural Network"
   ]
  },
  {
   "cell_type": "code",
   "execution_count": 33,
   "metadata": {},
   "outputs": [
    {
     "name": "stderr",
     "output_type": "stream",
     "text": [
      "Using TensorFlow backend.\n"
     ]
    },
    {
     "name": "stdout",
     "output_type": "stream",
     "text": [
      "Epoch 1/10\n",
      "20462/20462 [==============================] - 1s 43us/step - loss: 6.9447 - acc: 0.5648\n",
      "Epoch 2/10\n",
      "20462/20462 [==============================] - 1s 31us/step - loss: 6.9447 - acc: 0.5648\n",
      "Epoch 3/10\n",
      "20462/20462 [==============================] - 1s 31us/step - loss: 6.9447 - acc: 0.5648\n",
      "Epoch 4/10\n",
      "20462/20462 [==============================] - 1s 31us/step - loss: 6.9447 - acc: 0.5648\n",
      "Epoch 5/10\n",
      "20462/20462 [==============================] - 1s 31us/step - loss: 6.9447 - acc: 0.5648\n",
      "Epoch 6/10\n",
      "20462/20462 [==============================] - 1s 31us/step - loss: 6.9447 - acc: 0.5648\n",
      "Epoch 7/10\n",
      "20462/20462 [==============================] - 1s 30us/step - loss: 6.9447 - acc: 0.5648\n",
      "Epoch 8/10\n",
      "20462/20462 [==============================] - 1s 31us/step - loss: 6.9447 - acc: 0.5648\n",
      "Epoch 9/10\n",
      "20462/20462 [==============================] - 1s 31us/step - loss: 6.9447 - acc: 0.5648\n",
      "Epoch 10/10\n",
      "20462/20462 [==============================] - 1s 32us/step - loss: 6.9447 - acc: 0.5648\n",
      "5116/5116 [==============================] - 0s 21us/step\n",
      "loss and metrics [7.026321072984804, 0.559616888240504]\n",
      "prediction:  [[0.]\n",
      " [1.]\n",
      " [1.]\n",
      " ...\n",
      " [1.]\n",
      " [1.]\n",
      " [1.]]\n"
     ]
    }
   ],
   "source": [
    "\n",
    "from keras import models\n",
    "from keras import layers\n",
    "\n",
    "network = models.Sequential()\n",
    "network.add(layers.Dense(64, input_shape=(9,)))\n",
    "network.add(layers.Dense(32, activation=\"relu\"))\n",
    "network.add(layers.Dense(1, activation='sigmoid'))\n",
    "\n",
    "# Adam = Adam(lr=0.05)\n",
    "network.compile(optimizer=\"Adam\",\n",
    "                loss='binary_crossentropy',\n",
    "                metrics=['acc'])\n",
    "\n",
    "history = network.fit(x_train, y_train,\n",
    "                      epochs=10, verbose=1)\n",
    "\n",
    "loss_and_metrics = network.evaluate(x_test, y_test)\n",
    "print('loss and metrics', loss_and_metrics)\n",
    "\n",
    "print('prediction: ', network.predict(x_test))\n"
   ]
  },
  {
   "cell_type": "code",
   "execution_count": 37,
   "metadata": {},
   "outputs": [],
   "source": [
    "from keras.models import load_model\n",
    "\n",
    "network.save('my_model.h5') "
   ]
  },
  {
   "cell_type": "code",
   "execution_count": 42,
   "metadata": {},
   "outputs": [],
   "source": [
    "# save as JSON\n",
    "json_string = network.to_json()\n",
    "json_string\n",
    "\n",
    "import json\n",
    "with open('model.json', 'w') as outfile:\n",
    "    json.dump(json_string, outfile)"
   ]
  },
  {
   "cell_type": "code",
   "execution_count": 35,
   "metadata": {},
   "outputs": [
    {
     "data": {
      "image/png": "[encoded data removed]",
      "text/plain": [
       "<Figure size 432x288 with 1 Axes>"
      ]
     },
     "metadata": {
      "needs_background": "light"
     },
     "output_type": "display_data"
    },
    {
     "data": {
      "image/png": "[encoded data removed]",
      "text/plain": [
       "<Figure size 432x288 with 1 Axes>"
      ]
     },
     "metadata": {
      "needs_background": "light"
     },
     "output_type": "display_data"
    }
   ],
   "source": [
    "import matplotlib.pyplot as plt\n",
    "\n",
    "# Plot training & validation accuracy values\n",
    "plt.plot(history.history['acc'])\n",
    "plt.title('Model accuracy')\n",
    "plt.ylabel('Accuracy')\n",
    "plt.xlabel('Epoch')\n",
    "plt.legend(['Train', 'Test'], loc='upper left')\n",
    "plt.show()\n",
    "\n",
    "# Plot training & validation loss values\n",
    "plt.plot(history.history['loss'])\n",
    "plt.title('Model loss')\n",
    "plt.ylabel('Loss')\n",
    "plt.xlabel('Epoch')\n",
    "plt.legend(['Train', 'Test'], loc='upper left')\n",
    "plt.show()"
   ]
  },
  {
   "cell_type": "code",
   "execution_count": 45,
   "metadata": {},
   "outputs": [
    {
     "name": "stdout",
     "output_type": "stream",
     "text": [
      "_________________________________________________________________\n",
      "Layer (type)                 Output Shape              Param #   \n",
      "=================================================================\n",
      "dense_1 (Dense)              (None, 64)                640       \n",
      "_________________________________________________________________\n",
      "dense_2 (Dense)              (None, 32)                2080      \n",
      "_________________________________________________________________\n",
      "dense_3 (Dense)              (None, 1)                 33        \n",
      "=================================================================\n",
      "Total params: 2,753\n",
      "Trainable params: 2,753\n",
      "Non-trainable params: 0\n",
      "_________________________________________________________________\n"
     ]
    }
   ],
   "source": [
    "network.summary()"
   ]
  },
  {
   "cell_type": "markdown",
   "metadata": {},
   "source": [
    "# Deep Neural Network"
   ]
  },
  {
   "cell_type": "code",
   "execution_count": 19,
   "metadata": {},
   "outputs": [
    {
     "name": "stdout",
     "output_type": "stream",
     "text": [
      "Epoch 1/10\n",
      "20462/20462 [==============================] - 1s 66us/step - loss: 8.1740 - acc: 0.4903\n",
      "Epoch 2/10\n",
      "20462/20462 [==============================] - 1s 47us/step - loss: 8.1740 - acc: 0.4903\n",
      "Epoch 3/10\n",
      "20462/20462 [==============================] - 1s 49us/step - loss: 8.1740 - acc: 0.4903\n",
      "Epoch 4/10\n",
      "20462/20462 [==============================] - 1s 47us/step - loss: 8.1740 - acc: 0.4903\n",
      "Epoch 5/10\n",
      "20462/20462 [==============================] - 1s 47us/step - loss: 8.1740 - acc: 0.4903\n",
      "Epoch 6/10\n",
      "20462/20462 [==============================] - 1s 46us/step - loss: 8.1740 - acc: 0.4903\n",
      "Epoch 7/10\n",
      "20462/20462 [==============================] - 1s 47us/step - loss: 8.1740 - acc: 0.4903\n",
      "Epoch 8/10\n",
      "20462/20462 [==============================] - 1s 50us/step - loss: 8.1740 - acc: 0.4903\n",
      "Epoch 9/10\n",
      "20462/20462 [==============================] - 1s 47us/step - loss: 8.1740 - acc: 0.4903\n",
      "Epoch 10/10\n",
      "20462/20462 [==============================] - 1s 48us/step - loss: 8.1740 - acc: 0.4903\n",
      "5116/5116 [==============================] - 0s 24us/step\n",
      "loss and metrics [8.144025831692288, 0.4921813916423714]\n",
      "prediction:  [[1.]\n",
      " [0.]\n",
      " [0.]\n",
      " ...\n",
      " [0.]\n",
      " [0.]\n",
      " [0.]]\n"
     ]
    }
   ],
   "source": [
    "# create an array of shape 30706, 9 = number of records by the features\n",
    "data = np.array([[0 for x in range(12)] for y in range(len(df))])\n",
    "for i in range(len(df)):\n",
    "    data[i] = [df.eegRawValue.values[i],\n",
    "               df.delta.values[i],\n",
    "               df.theta.values[i],\n",
    "               df.alphaLow.values[i],\n",
    "               df.alphaHigh.values[i],\n",
    "               df.betaLow.values[i],\n",
    "               df.betaHigh.values[i],\n",
    "               df.gammaLow.values[i],\n",
    "               df.gammaMid.values[i],\n",
    "               df.meditation.values[i],\n",
    "               df.attention.values[i],\n",
    "               df.eegRawValueVolts.values[i]]\n",
    "from keras import models\n",
    "from keras import layers\n",
    "from keras.utils.vis_utils import plot_model\n",
    "\n",
    "network = models.Sequential()\n",
    "network.add(layers.Dense(64, input_shape=(9,)))\n",
    "network.add(layers.Dense(128, activation=\"relu\"))\n",
    "network.add(layers.Dense(256, activation=\"relu\"))\n",
    "network.add(layers.Dense(128, activation=\"relu\"))\n",
    "network.add(layers.Dense(64, activation=\"relu\"))\n",
    "network.add(layers.Dense(32, activation=\"relu\"))\n",
    "network.add(layers.Dense(1, activation='sigmoid'))\n",
    "\n",
    "# plot_model(network, to_file='model_plot.png', show_shapes=True, show_layer_names=True)\n",
    "\n",
    "# Adam = Adam(lr=0.05)\n",
    "network.compile(optimizer=\"Adam\",\n",
    "                loss='binary_crossentropy',\n",
    "                metrics=['acc'])\n",
    "\n",
    "history = network.fit(x_train, y_train,\n",
    "                      epochs=10, verbose=1)\n",
    "\n",
    "loss_and_metrics = network.evaluate(x_test, y_test)\n",
    "print('loss and metrics', loss_and_metrics)\n",
    "\n",
    "print('prediction: ', network.predict(x_test))"
   ]
  },
  {
   "cell_type": "code",
   "execution_count": 48,
   "metadata": {},
   "outputs": [
    {
     "name": "stdout",
     "output_type": "stream",
     "text": [
      "_________________________________________________________________\n",
      "Layer (type)                 Output Shape              Param #   \n",
      "=================================================================\n",
      "dense_10 (Dense)             (None, 64)                640       \n",
      "_________________________________________________________________\n",
      "dense_11 (Dense)             (None, 128)               8320      \n",
      "_________________________________________________________________\n",
      "dense_12 (Dense)             (None, 256)               33024     \n",
      "_________________________________________________________________\n",
      "dense_13 (Dense)             (None, 128)               32896     \n",
      "_________________________________________________________________\n",
      "dense_14 (Dense)             (None, 64)                8256      \n",
      "_________________________________________________________________\n",
      "dense_15 (Dense)             (None, 32)                2080      \n",
      "_________________________________________________________________\n",
      "dense_16 (Dense)             (None, 1)                 33        \n",
      "=================================================================\n",
      "Total params: 85,249\n",
      "Trainable params: 85,249\n",
      "Non-trainable params: 0\n",
      "_________________________________________________________________\n"
     ]
    }
   ],
   "source": [
    "network.summary()"
   ]
  },
  {
   "cell_type": "code",
   "execution_count": null,
   "metadata": {},
   "outputs": [],
   "source": [
    "# create an array of shape 30706, 9 = number of records by the features\n",
    "data = np.array([[0 for x in range(12)] for y in range(len(df))])\n",
    "for i in range(len(df)):\n",
    "    data[i] = [df.eegRawValue.values[i],\n",
    "               df.delta.values[i],\n",
    "               df.theta.values[i],\n",
    "               df.alphaLow.values[i],\n",
    "               df.alphaHigh.values[i],\n",
    "               df.betaLow.values[i],\n",
    "               df.betaHigh.values[i],\n",
    "               df.gammaLow.values[i],\n",
    "               df.gammaMid.values[i],\n",
    "               df.meditation.values[i],\n",
    "               df.attention.values[i],\n",
    "               df.eegRawValueVolts.values[i]]\n",
    "\n",
    "from keras.utils.vis_utils import plot_model\n",
    "\n",
    "network = models.Sequential()\n",
    "network.add(layers.Dense(64, input_shape=(9,)))\n",
    "network.add(layers.Dense(128, activation=\"relu\"))\n",
    "network.add(layers.Dense(256, activation=\"relu\"))\n",
    "network.add(layers.Dense(128, activation=\"relu\"))\n",
    "network.add(layers.Dense(256, activation=\"relu\"))\n",
    "network.add(layers.Dense(512, activation=\"relu\"))\n",
    "network.add(layers.Dense(1024, activation=\"relu\"))\n",
    "network.add(layers.Dense(512, activation=\"relu\"))\n",
    "network.add(layers.Dense(256, activation=\"relu\"))\n",
    "network.add(layers.Dense(128, activation=\"relu\"))\n",
    "network.add(layers.Dense(64, activation=\"relu\"))\n",
    "network.add(layers.Dense(32, activation=\"relu\"))\n",
    "network.add(layers.Dense(1, activation='sigmoid'))\n",
    "\n",
    "# plot_model(network, to_file='model_plot.png', show_shapes=True, show_layer_names=True)\n",
    "\n",
    "# Adam = Adam(lr=0.05)\n",
    "network.compile(optimizer=\"Adam\",\n",
    "                loss='binary_crossentropy',\n",
    "                metrics=['acc'])\n",
    "\n",
    "history = network.fit(x_train, y_train,\n",
    "                      epochs=10, verbose=1)\n",
    "\n",
    "loss_and_metrics = network.evaluate(x_test, y_test)\n",
    "print('loss and metrics', loss_and_metrics)\n",
    "\n",
    "print('prediction: ', network.predict(x_test))"
   ]
  },
  {
   "cell_type": "code",
   "execution_count": 11,
   "metadata": {},
   "outputs": [
    {
     "ename": "ModuleNotFoundError",
     "evalue": "No module named 'hyperas'",
     "traceback": [
      "\u001b[0;31m---------------------------------------------------------------------------\u001b[0m",
      "\u001b[0;31mModuleNotFoundError\u001b[0m                       Traceback (most recent call last)",
      "\u001b[0;32m<ipython-input-11-cfc028567d4d>\u001b[0m in \u001b[0;36m<module>\u001b[0;34m\u001b[0m\n\u001b[1;32m     11\u001b[0m \u001b[0;32mfrom\u001b[0m \u001b[0mkeras\u001b[0m\u001b[0;34m.\u001b[0m\u001b[0mutils\u001b[0m \u001b[0;32mimport\u001b[0m \u001b[0mnp_utils\u001b[0m\u001b[0;34m\u001b[0m\u001b[0m\n\u001b[1;32m     12\u001b[0m \u001b[0;34m\u001b[0m\u001b[0m\n\u001b[0;32m---> 13\u001b[0;31m \u001b[0;32mfrom\u001b[0m \u001b[0mhyperas\u001b[0m \u001b[0;32mimport\u001b[0m \u001b[0moptim\u001b[0m\u001b[0;34m\u001b[0m\u001b[0m\n\u001b[0m\u001b[1;32m     14\u001b[0m \u001b[0;32mfrom\u001b[0m \u001b[0mhyperas\u001b[0m\u001b[0;34m.\u001b[0m\u001b[0mdistributions\u001b[0m \u001b[0;32mimport\u001b[0m \u001b[0mchoice\u001b[0m\u001b[0;34m,\u001b[0m \u001b[0muniform\u001b[0m\u001b[0;34m\u001b[0m\u001b[0m\n\u001b[1;32m     15\u001b[0m \u001b[0;34m\u001b[0m\u001b[0m\n",
      "\u001b[0;31mModuleNotFoundError\u001b[0m: No module named 'hyperas'"
     ],
     "output_type": "error"
    }
   ],
   "source": [
    "\n",
    "from __future__ import print_function\n",
    "import numpy as np\n",
    "import keras\n",
    "from keras import models\n",
    "from keras import layers\n",
    "from hyperopt import Trials, STATUS_OK, tpe\n",
    "from keras.datasets import mnist\n",
    "from keras.layers.core import Dense, Dropout, Activation\n",
    "from keras.models import Sequential\n",
    "from keras.utils import np_utils\n",
    " \n",
    "from hyperas import optim\n",
    "from hyperas.distributions import choice, uniform\n",
    "\n",
    "\n",
    "network = models.Sequential()\n",
    "network.add(layers.Dense(64, input_shape=(9,)))\n",
    "network.add(Dropout({{uniform(0, 1)}}))\n",
    "network.add(layers.Dense(32, activation=\"relu\"))\n",
    "network.add(Dense({{choice([256, 512, 1024])}}))\n",
    "network.add(Dropout({{uniform(0, 1)}}))\n",
    "network.add(Activation({{choice(['relu', 'sigmoid'])}}))\n",
    "network.add(layers.Dense(1, activation='sigmoid'))\n",
    "network.add(Dropout({{uniform(0, 1)}}))\n",
    "\n",
    "callbacks_list = [\n",
    "#         keras.callbacks.EarlyStopping(\n",
    "#             monitor='acc',\n",
    "#             patience=1,\n",
    "#         ),\n",
    "#         keras.callbacks.ModelCheckpoint(\n",
    "#             filepath='theTestModel.h5',\n",
    "#             monitor='val_loss',\n",
    "#             save_best_only=True,\n",
    "#         ),\n",
    "#         keras.callbacks.ReduceLROnPlateau(\n",
    "#             monitor='val_loss',\n",
    "#             factor=0.1,\n",
    "#             patience=10\n",
    "#         ),\n",
    "    keras.callbacks.TensorBoard(\n",
    "        log_dir='my_log_dir',\n",
    "        histogram_freq=0,\n",
    ")\n",
    "]\n",
    "    \n",
    "# Adam = Adam(lr=0.05)\n",
    "network.compile(optimizer={{choice(['rmsprop', 'adam', 'sgd'])}},\n",
    "                loss='binary_crossentropy',\n",
    "                metrics=['acc'])\n",
    "\n",
    "history = network.fit(x_train, y_train,\n",
    "                      validation_data=(x_test, y_test),\n",
    "                      batch_size={{choice([64, 128])}},\n",
    "                      epochs=10, verbose=1, callbacks=callbacks_list)\n",
    "#get the highest validation accuracy of the training epochs\n",
    "validation_acc = np.amax(result.history['val_acc']) \n",
    "print('Best validation acc of epoch:', validation_acc)\n",
    "\n",
    "loss_and_metrics = network.evaluate(x_test, y_test)\n",
    "print('loss and metrics', loss_and_metrics)\n",
    "\n",
    "print('prediction: ', network.predict(x_test))"
   ]
  },
  {
   "cell_type": "code",
   "execution_count": 41,
   "metadata": {},
   "outputs": [
    {
     "ename": "SyntaxError",
     "evalue": "can't assign to operator (<ipython-input-41-2851327bad81>, line 1)",
     "traceback": [
      "\u001b[0;36m  File \u001b[0;32m\"<ipython-input-41-2851327bad81>\"\u001b[0;36m, line \u001b[0;32m1\u001b[0m\n\u001b[0;31m    tensorboard --logdir=my_log_dir\u001b[0m\n\u001b[0m                                   ^\u001b[0m\n\u001b[0;31mSyntaxError\u001b[0m\u001b[0;31m:\u001b[0m can't assign to operator\n"
     ],
     "output_type": "error"
    }
   ],
   "source": [
    "tensorboard --logdir=my_log_dir"
   ]
  },
  {
   "cell_type": "code",
   "execution_count": 24,
   "metadata": {},
   "outputs": [],
   "source": [
    "mkdir my_log_dir"
   ]
  },
  {
   "cell_type": "code",
   "execution_count": null,
   "metadata": {},
   "outputs": [],
   "source": []
  }
 ],
 "metadata": {
  "kernelspec": {
   "display_name": "Python 3",
   "language": "python",
   "name": "python3"
  },
  "language_info": {
   "codemirror_mode": {
    "name": "ipython",
    "version": 3
   },
   "file_extension": ".py",
   "mimetype": "text/x-python",
   "name": "python",
   "nbconvert_exporter": "python",
   "pygments_lexer": "ipython3",
   "version": "3.6.6"
  }
 },
 "nbformat": 4,
 "nbformat_minor": 2
}
