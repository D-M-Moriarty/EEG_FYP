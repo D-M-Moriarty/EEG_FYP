{
 "cells": [
  {
   "cell_type": "code",
   "execution_count": 4,
   "metadata": {},
   "outputs": [],
   "source": [
    "import pandas as pd\n",
    "import numpy as np\n",
    "from sklearn import model_selection\n",
    "from sklearn.ensemble import RandomForestClassifier\n",
    "from sklearn.model_selection import train_test_split\n",
    "from sklearn.preprocessing import LabelBinarizer\n",
    "from sklearn import preprocessing\n",
    "%matplotlib inline \n",
    "import matplotlib.pyplot as plt \n",
    "from sklearn.metrics import confusion_matrix\n",
    "import itertools \n",
    "\n",
    "faces1 = pd.read_csv(\"../../data_files/data_from_android_api/faces/faces1.csv\")\n",
    "faces2 = pd.read_csv(\"../../data_files/data_from_android_api/faces/faces2.csv\")\n",
    "faces3 = pd.read_csv(\"../../data_files/data_from_android_api/faces/faces3.csv\")\n",
    "faces4 = pd.read_csv(\"../../data_files/data_from_android_api/faces/faces4.csv\")\n",
    "faces5 = pd.read_csv(\"../../data_files/data_from_android_api/faces/faces5.csv\")\n",
    "\n",
    "dataDF = pd.concat([faces1, faces2, faces3, faces4, faces5])"
   ]
  },
  {
   "cell_type": "code",
   "execution_count": 5,
   "metadata": {},
   "outputs": [
    {
     "name": "stdout",
     "output_type": "stream",
     "text": [
      "16777099\n",
      "48\n"
     ]
    },
    {
     "name": "stderr",
     "output_type": "stream",
     "text": [
      "/Users/darrenmoriarty/anaconda3/lib/python3.6/site-packages/sklearn/utils/validation.py:595: DataConversionWarning: Data with input dtype int64 was converted to float64 by MinMaxScaler.\n",
      "  warnings.warn(msg, DataConversionWarning)\n"
     ]
    }
   ],
   "source": [
    "# create an array of shape 30706, 9 = number of records by the features\n",
    "data = np.array([[0 for x in range(8)] for y in range(len(dataDF))])\n",
    "for i in range(len(dataDF)):\n",
    "    data[i] = [dataDF.delta.values[i],\n",
    "                       dataDF.theta.values[i],\n",
    "                       dataDF.alphaLow.values[i],\n",
    "                       dataDF.alphaHigh.values[i],\n",
    "                       dataDF.betaLow.values[i],\n",
    "                       dataDF.betaHigh.values[i],\n",
    "                       dataDF.gammaLow.values[i],\n",
    "                       dataDF.gammaMid.values[i]]\n",
    "    \n",
    "from sklearn.model_selection import train_test_split\n",
    "from sklearn.preprocessing import LabelBinarizer, LabelEncoder\n",
    "\n",
    "encoder = LabelBinarizer()\n",
    "encoder = LabelEncoder()\n",
    "labels = encoder.fit_transform(dataDF.action.values)\n",
    "\n",
    "# creating training and test sets\n",
    "x_train, x_test, y_train, y_test = train_test_split(data, labels, random_state=42)\n",
    "print(x_train.max())\n",
    "print(x_train.min())\n",
    "\n",
    "from sklearn.preprocessing import MinMaxScaler, StandardScaler\n",
    "scaler = MinMaxScaler()\n",
    "\n",
    "x_train = scaler.fit_transform(x_train)\n",
    "x_test = scaler.transform(x_test)\n",
    "\n",
    "all_labels = dataDF.action.values\n",
    "\n",
    "all_data = dataDF.drop(['action'], axis=1)"
   ]
  },
  {
   "cell_type": "code",
   "execution_count": 6,
   "metadata": {},
   "outputs": [],
   "source": [
    "from keras.utils import np_utils\n",
    "# convert integers to dummy variables (i.e. one hot encoded)\n",
    "y_train = np_utils.to_categorical(y_train)\n",
    "y_test = np_utils.to_categorical(y_test)"
   ]
  },
  {
   "cell_type": "code",
   "execution_count": 7,
   "metadata": {},
   "outputs": [
    {
     "data": {
      "text/plain": [
       "array(['down'], dtype=object)"
      ]
     },
     "execution_count": 7,
     "metadata": {},
     "output_type": "execute_result"
    }
   ],
   "source": [
    "encoder.inverse_transform([np.argmax(y_test[8], axis=0)])"
   ]
  },
  {
   "cell_type": "code",
   "execution_count": 8,
   "metadata": {},
   "outputs": [
    {
     "data": {
      "text/plain": [
       "array([[1., 0., 0., 0., 0.],\n",
       "       [1., 0., 0., 0., 0.],\n",
       "       [0., 0., 0., 0., 1.],\n",
       "       [0., 0., 1., 0., 0.],\n",
       "       [0., 0., 1., 0., 0.],\n",
       "       [0., 0., 1., 0., 0.],\n",
       "       [0., 1., 0., 0., 0.],\n",
       "       [0., 0., 0., 1., 0.],\n",
       "       [1., 0., 0., 0., 0.],\n",
       "       [0., 0., 0., 0., 1.],\n",
       "       [0., 0., 1., 0., 0.],\n",
       "       [1., 0., 0., 0., 0.],\n",
       "       [0., 1., 0., 0., 0.],\n",
       "       [0., 0., 0., 0., 1.],\n",
       "       [0., 0., 1., 0., 0.],\n",
       "       [0., 0., 1., 0., 0.],\n",
       "       [1., 0., 0., 0., 0.],\n",
       "       [0., 0., 0., 0., 1.],\n",
       "       [0., 0., 1., 0., 0.],\n",
       "       [0., 0., 0., 0., 1.]], dtype=float32)"
      ]
     },
     "execution_count": 8,
     "metadata": {},
     "output_type": "execute_result"
    }
   ],
   "source": [
    "y_test[:20]"
   ]
  },
  {
   "cell_type": "markdown",
   "metadata": {},
   "source": [
    "[1., 0., 0., 0., 0.], down\n",
    "[0., 1., 0., 0., 0.], left\n",
    "[0., 0., 1., 0., 0.], rest\n",
    "[0., 0., 0., 1., 0.], right\n",
    "[0., 0., 0., 0., 1.], up"
   ]
  },
  {
   "cell_type": "code",
   "execution_count": 38,
   "metadata": {
    "scrolled": false
   },
   "outputs": [
    {
     "name": "stdout",
     "output_type": "stream",
     "text": [
      "_________________________________________________________________\n",
      "Layer (type)                 Output Shape              Param #   \n",
      "=================================================================\n",
      "dense_21 (Dense)             (None, 16)                144       \n",
      "_________________________________________________________________\n",
      "dense_22 (Dense)             (None, 32)                544       \n",
      "_________________________________________________________________\n",
      "dense_23 (Dense)             (None, 64)                2112      \n",
      "_________________________________________________________________\n",
      "dense_24 (Dense)             (None, 16)                1040      \n",
      "_________________________________________________________________\n",
      "dense_25 (Dense)             (None, 5)                 85        \n",
      "=================================================================\n",
      "Total params: 3,925\n",
      "Trainable params: 3,925\n",
      "Non-trainable params: 0\n",
      "_________________________________________________________________\n",
      "Train on 1304 samples, validate on 326 samples\n",
      "Epoch 1/50\n",
      "1304/1304 [==============================] - 1s 1ms/step - loss: 1.6041 - acc: 0.2531 - val_loss: 1.5955 - val_acc: 0.2485\n",
      "Epoch 2/50\n",
      "1304/1304 [==============================] - 1s 654us/step - loss: 1.5677 - acc: 0.2784 - val_loss: 1.5739 - val_acc: 0.2209\n",
      "Epoch 3/50\n",
      "1304/1304 [==============================] - 1s 626us/step - loss: 1.5483 - acc: 0.2837 - val_loss: 1.5661 - val_acc: 0.2270\n",
      "Epoch 4/50\n",
      "1304/1304 [==============================] - 1s 619us/step - loss: 1.5417 - acc: 0.2814 - val_loss: 1.5658 - val_acc: 0.2209\n",
      "Epoch 5/50\n",
      "1304/1304 [==============================] - 1s 614us/step - loss: 1.5369 - acc: 0.2891 - val_loss: 1.5664 - val_acc: 0.2270\n",
      "Epoch 6/50\n",
      "1304/1304 [==============================] - 1s 662us/step - loss: 1.5330 - acc: 0.2860 - val_loss: 1.5639 - val_acc: 0.2270\n",
      "Epoch 7/50\n",
      "1304/1304 [==============================] - 1s 618us/step - loss: 1.5301 - acc: 0.2883 - val_loss: 1.5621 - val_acc: 0.2423\n",
      "Epoch 8/50\n",
      "1304/1304 [==============================] - 1s 630us/step - loss: 1.5271 - acc: 0.2945 - val_loss: 1.5577 - val_acc: 0.2393\n",
      "Epoch 9/50\n",
      "1304/1304 [==============================] - 1s 686us/step - loss: 1.5248 - acc: 0.2814 - val_loss: 1.5587 - val_acc: 0.2423\n",
      "Epoch 10/50\n",
      "1304/1304 [==============================] - 1s 753us/step - loss: 1.5217 - acc: 0.2876 - val_loss: 1.5537 - val_acc: 0.2331\n",
      "Epoch 11/50\n",
      "1304/1304 [==============================] - 1s 625us/step - loss: 1.5205 - acc: 0.2899 - val_loss: 1.5516 - val_acc: 0.2331\n",
      "Epoch 12/50\n",
      "1304/1304 [==============================] - 1s 726us/step - loss: 1.5170 - acc: 0.2845 - val_loss: 1.5544 - val_acc: 0.2423\n",
      "Epoch 13/50\n",
      "1304/1304 [==============================] - 1s 628us/step - loss: 1.5147 - acc: 0.2891 - val_loss: 1.5510 - val_acc: 0.2515\n",
      "Epoch 14/50\n",
      "1304/1304 [==============================] - 1s 701us/step - loss: 1.5120 - acc: 0.2899 - val_loss: 1.5457 - val_acc: 0.2239\n",
      "Epoch 15/50\n",
      "1304/1304 [==============================] - 1s 602us/step - loss: 1.5092 - acc: 0.2868 - val_loss: 1.5456 - val_acc: 0.2393\n",
      "Epoch 16/50\n",
      "1304/1304 [==============================] - 1s 601us/step - loss: 1.5058 - acc: 0.2968 - val_loss: 1.5433 - val_acc: 0.2669\n",
      "Epoch 17/50\n",
      "1304/1304 [==============================] - 1s 612us/step - loss: 1.5029 - acc: 0.2960 - val_loss: 1.5400 - val_acc: 0.2423\n",
      "Epoch 18/50\n",
      "1304/1304 [==============================] - 1s 601us/step - loss: 1.4985 - acc: 0.3090 - val_loss: 1.5376 - val_acc: 0.2822\n",
      "Epoch 19/50\n",
      "1304/1304 [==============================] - 1s 609us/step - loss: 1.4948 - acc: 0.3121 - val_loss: 1.5355 - val_acc: 0.2515\n",
      "Epoch 20/50\n",
      "1304/1304 [==============================] - 1s 595us/step - loss: 1.4905 - acc: 0.3213 - val_loss: 1.5241 - val_acc: 0.3313\n",
      "Epoch 21/50\n",
      "1304/1304 [==============================] - 1s 597us/step - loss: 1.4852 - acc: 0.3374 - val_loss: 1.5217 - val_acc: 0.3313\n",
      "Epoch 22/50\n",
      "1304/1304 [==============================] - 1s 602us/step - loss: 1.4808 - acc: 0.3436 - val_loss: 1.5171 - val_acc: 0.3282\n",
      "Epoch 23/50\n",
      "1304/1304 [==============================] - 1s 597us/step - loss: 1.4753 - acc: 0.3405 - val_loss: 1.5133 - val_acc: 0.3282\n",
      "Epoch 24/50\n",
      "1304/1304 [==============================] - 1s 598us/step - loss: 1.4716 - acc: 0.3459 - val_loss: 1.5088 - val_acc: 0.3528\n",
      "Epoch 25/50\n",
      "1304/1304 [==============================] - 1s 615us/step - loss: 1.4638 - acc: 0.3612 - val_loss: 1.5158 - val_acc: 0.3374\n",
      "Epoch 26/50\n",
      "1304/1304 [==============================] - 1s 602us/step - loss: 1.4634 - acc: 0.3543 - val_loss: 1.4986 - val_acc: 0.3528\n",
      "Epoch 27/50\n",
      "1304/1304 [==============================] - 1s 611us/step - loss: 1.4597 - acc: 0.3489 - val_loss: 1.4992 - val_acc: 0.3589\n",
      "Epoch 28/50\n",
      "1304/1304 [==============================] - 1s 649us/step - loss: 1.4568 - acc: 0.3604 - val_loss: 1.5030 - val_acc: 0.3436\n",
      "Epoch 29/50\n",
      "1304/1304 [==============================] - 1s 616us/step - loss: 1.4536 - acc: 0.3543 - val_loss: 1.5060 - val_acc: 0.3497\n",
      "Epoch 30/50\n",
      "1304/1304 [==============================] - 1s 614us/step - loss: 1.4523 - acc: 0.3551 - val_loss: 1.4887 - val_acc: 0.3589\n",
      "Epoch 31/50\n",
      "1304/1304 [==============================] - 1s 597us/step - loss: 1.4508 - acc: 0.3666 - val_loss: 1.4924 - val_acc: 0.3436\n",
      "Epoch 32/50\n",
      "1304/1304 [==============================] - 1s 597us/step - loss: 1.4488 - acc: 0.3589 - val_loss: 1.5018 - val_acc: 0.3405\n",
      "Epoch 33/50\n",
      "1304/1304 [==============================] - 1s 602us/step - loss: 1.4468 - acc: 0.3589 - val_loss: 1.4909 - val_acc: 0.3313\n",
      "Epoch 34/50\n",
      "1304/1304 [==============================] - 1s 604us/step - loss: 1.4461 - acc: 0.3589 - val_loss: 1.4891 - val_acc: 0.3282\n",
      "Epoch 35/50\n",
      "1304/1304 [==============================] - 1s 613us/step - loss: 1.4446 - acc: 0.3696 - val_loss: 1.4857 - val_acc: 0.3436\n",
      "Epoch 36/50\n",
      "1304/1304 [==============================] - 1s 600us/step - loss: 1.4427 - acc: 0.3635 - val_loss: 1.4800 - val_acc: 0.3374\n",
      "Epoch 37/50\n",
      "1304/1304 [==============================] - 1s 609us/step - loss: 1.4426 - acc: 0.3627 - val_loss: 1.4854 - val_acc: 0.3374\n",
      "Epoch 38/50\n",
      "1304/1304 [==============================] - 1s 597us/step - loss: 1.4404 - acc: 0.3650 - val_loss: 1.5048 - val_acc: 0.3098\n",
      "Epoch 39/50\n",
      "1304/1304 [==============================] - 1s 598us/step - loss: 1.4398 - acc: 0.3727 - val_loss: 1.4878 - val_acc: 0.3252\n",
      "Epoch 40/50\n",
      "1304/1304 [==============================] - 1s 614us/step - loss: 1.4363 - acc: 0.3750 - val_loss: 1.5001 - val_acc: 0.3190\n",
      "Epoch 41/50\n",
      "1304/1304 [==============================] - 1s 660us/step - loss: 1.4351 - acc: 0.3673 - val_loss: 1.4997 - val_acc: 0.3221\n",
      "Epoch 42/50\n",
      "1304/1304 [==============================] - 1s 654us/step - loss: 1.4348 - acc: 0.3696 - val_loss: 1.4948 - val_acc: 0.3374\n",
      "Epoch 43/50\n",
      "1304/1304 [==============================] - 1s 596us/step - loss: 1.4335 - acc: 0.3727 - val_loss: 1.4805 - val_acc: 0.3374\n",
      "Epoch 44/50\n",
      "1304/1304 [==============================] - 1s 636us/step - loss: 1.4315 - acc: 0.3658 - val_loss: 1.5043 - val_acc: 0.3190\n",
      "Epoch 45/50\n",
      "1304/1304 [==============================] - 1s 713us/step - loss: 1.4306 - acc: 0.3727 - val_loss: 1.4917 - val_acc: 0.3344\n",
      "Epoch 46/50\n",
      "1304/1304 [==============================] - 1s 649us/step - loss: 1.4283 - acc: 0.3750 - val_loss: 1.4791 - val_acc: 0.3282\n",
      "Epoch 47/50\n",
      "1304/1304 [==============================] - 1s 643us/step - loss: 1.4256 - acc: 0.3727 - val_loss: 1.4737 - val_acc: 0.3466\n",
      "Epoch 48/50\n",
      "1304/1304 [==============================] - 1s 637us/step - loss: 1.4269 - acc: 0.3758 - val_loss: 1.4897 - val_acc: 0.3466\n",
      "Epoch 49/50\n",
      "1304/1304 [==============================] - 1s 644us/step - loss: 1.4267 - acc: 0.3735 - val_loss: 1.4835 - val_acc: 0.3466\n",
      "Epoch 50/50\n",
      "1304/1304 [==============================] - 1s 639us/step - loss: 1.4227 - acc: 0.3850 - val_loss: 1.4796 - val_acc: 0.3466\n",
      "544/544 [==============================] - 0s 14us/step\n",
      "loss and metrics [1.44321870803833, 0.3474264705882353]\n"
     ]
    },
    {
     "data": {
      "image/png": "[encoded data removed]",
      "text/plain": [
       "<Figure size 432x288 with 1 Axes>"
      ]
     },
     "metadata": {
      "needs_background": "light"
     },
     "output_type": "display_data"
    },
    {
     "data": {
      "image/png": "[encoded data removed]",
      "text/plain": [
       "<Figure size 432x288 with 1 Axes>"
      ]
     },
     "metadata": {
      "needs_background": "light"
     },
     "output_type": "display_data"
    }
   ],
   "source": [
    "from keras import models\n",
    "from keras import layers\n",
    "# from keras import regularizers kernel_regularizer=regularizers.l2(0.01), \n",
    "from keras.optimizers import Adam\n",
    "\n",
    "def build_model():\n",
    "    model = models.Sequential()\n",
    "    model.add(layers.Dense(16, input_shape=(8,)))\n",
    "    model.add(layers.Dense(32, activation=\"relu\"))\n",
    "    model.add(layers.Dense(64, activation=\"relu\"))\n",
    "    model.add(layers.Dense(16, activation=\"softmax\"))\n",
    "    model.add(layers.Dense(5, activation='softmax'))\n",
    "    return model\n",
    "\n",
    "network = build_model()\n",
    "\n",
    "# Adam = Adam(lr=0.05)\n",
    "network.compile(optimizer=Adam(lr=0.00038),\n",
    "                loss='categorical_crossentropy',\n",
    "                metrics=['acc'])\n",
    "network.summary()\n",
    "\n",
    "history = network.fit(x_train, y_train,\n",
    "                      validation_split=0.2,\n",
    "                      epochs=50, verbose=1, batch_size=2)\n",
    "\n",
    "loss_and_metrics = network.evaluate(x_test, y_test)\n",
    "print('loss and metrics', loss_and_metrics)\n",
    "\n",
    "%matplotlib inline \n",
    "import matplotlib.pyplot as plt\n",
    "\n",
    "# Plot training & validation accuracy values\n",
    "plt.plot(history.history['acc'])\n",
    "plt.plot(history.history['val_acc'])\n",
    "plt.title('model accuracy')\n",
    "plt.ylabel('accuracy')\n",
    "plt.xlabel('epoch')\n",
    "plt.legend(['train', 'validation'], loc='upper left')\n",
    "plt.show()\n",
    "\n",
    "# summarize history for loss\n",
    "plt.plot(history.history['loss'])\n",
    "plt.plot(history.history['val_loss'])\n",
    "plt.title('model loss')\n",
    "plt.ylabel('loss')\n",
    "plt.xlabel('epoch')\n",
    "plt.legend(['train', 'validation'], loc='upper left')\n",
    "plt.show()"
   ]
  },
  {
   "cell_type": "code",
   "execution_count": 32,
   "metadata": {},
   "outputs": [],
   "source": [
    "y_pred = network.predict(x_test)"
   ]
  },
  {
   "cell_type": "code",
   "execution_count": 33,
   "metadata": {},
   "outputs": [],
   "source": [
    "matrix = confusion_matrix(y_test.argmax(axis=1), y_pred.argmax(axis=1))"
   ]
  },
  {
   "cell_type": "code",
   "execution_count": 34,
   "metadata": {},
   "outputs": [
    {
     "data": {
      "text/plain": [
       "array([[14,  4, 67,  6, 10],\n",
       "       [10, 21, 20, 20, 49],\n",
       "       [ 8,  5, 82,  7, 19],\n",
       "       [11, 17, 26, 12, 37],\n",
       "       [ 4, 22, 11,  4, 58]])"
      ]
     },
     "execution_count": 34,
     "metadata": {},
     "output_type": "execute_result"
    }
   ],
   "source": [
    "matrix"
   ]
  },
  {
   "cell_type": "code",
   "execution_count": 35,
   "metadata": {},
   "outputs": [],
   "source": [
    "def plot_confusion_matrix(cm, classes,\n",
    "                          normalize=False,\n",
    "                          title='confusion matrix',\n",
    "                          cmap=plt.cm.Blues):\n",
    "    plt.imshow(cm, interpolation='nearest', cmap=cmap)\n",
    "    plt.title(title)\n",
    "    plt.colorbar()\n",
    "    tick_marks = np.arange(len(classes))\n",
    "    plt.xticks(tick_marks, classes, rotation=45)\n",
    "    plt.yticks(tick_marks, classes)\n",
    "    \n",
    "    if normalize:\n",
    "        cm = cm.astype('float') / cm.sum(axis=1)[:, np.newaxis]\n",
    "        print(\"noralized confusion matrix\")\n",
    "    else:\n",
    "        print('confusion matrix without normalization')\n",
    "        \n",
    "    print(cm)\n",
    "    \n",
    "    thresh = cm.max() / 2.\n",
    "    for i, j in itertools.product(range(cm.shape[0]), range(cm.shape[1])):\n",
    "        plt.text(j, i, cm[i, j],\n",
    "                horizontalalignment='center',\n",
    "                color='white' if cm[i, j] > thresh else 'black')\n",
    "        \n",
    "    plt.tight_layout()\n",
    "    plt.ylabel('True label')\n",
    "    plt.xlabel('predicted label')\n"
   ]
  },
  {
   "cell_type": "code",
   "execution_count": 36,
   "metadata": {},
   "outputs": [],
   "source": [
    "my_labels = ['down', 'left', 'rest', 'right', 'up']"
   ]
  },
  {
   "cell_type": "code",
   "execution_count": 37,
   "metadata": {},
   "outputs": [
    {
     "name": "stdout",
     "output_type": "stream",
     "text": [
      "confusion matrix without normalization\n",
      "[[14  4 67  6 10]\n",
      " [10 21 20 20 49]\n",
      " [ 8  5 82  7 19]\n",
      " [11 17 26 12 37]\n",
      " [ 4 22 11  4 58]]\n"
     ]
    },
    {
     "data": {
      "image/png": "[encoded data removed]",
      "text/plain": [
       "<Figure size 432x288 with 2 Axes>"
      ]
     },
     "metadata": {
      "needs_background": "light"
     },
     "output_type": "display_data"
    }
   ],
   "source": [
    "plot_confusion_matrix(matrix, my_labels, title='Conf Matr')"
   ]
  },
  {
   "cell_type": "code",
   "execution_count": 101,
   "metadata": {},
   "outputs": [
    {
     "ename": "NameError",
     "evalue": "name 'down' is not defined",
     "output_type": "error",
     "traceback": [
      "\u001b[0;31m---------------------------------------------------------------------------\u001b[0m",
      "\u001b[0;31mNameError\u001b[0m                                 Traceback (most recent call last)",
      "\u001b[0;32m<ipython-input-101-51caf57ca149>\u001b[0m in \u001b[0;36m<module>\u001b[0;34m\u001b[0m\n\u001b[0;32m----> 1\u001b[0;31m \u001b[0;34m[\u001b[0m\u001b[0;36m1.\u001b[0m\u001b[0;34m,\u001b[0m \u001b[0;36m0.\u001b[0m\u001b[0;34m,\u001b[0m \u001b[0;36m0.\u001b[0m\u001b[0;34m,\u001b[0m \u001b[0;36m0.\u001b[0m\u001b[0;34m,\u001b[0m \u001b[0;36m0.\u001b[0m\u001b[0;34m]\u001b[0m\u001b[0;34m,\u001b[0m \u001b[0mdown\u001b[0m\u001b[0;34m\u001b[0m\u001b[0m\n\u001b[0m\u001b[1;32m      2\u001b[0m \u001b[0;34m[\u001b[0m\u001b[0;36m0.\u001b[0m\u001b[0;34m,\u001b[0m \u001b[0;36m1.\u001b[0m\u001b[0;34m,\u001b[0m \u001b[0;36m0.\u001b[0m\u001b[0;34m,\u001b[0m \u001b[0;36m0.\u001b[0m\u001b[0;34m,\u001b[0m \u001b[0;36m0.\u001b[0m\u001b[0;34m]\u001b[0m\u001b[0;34m,\u001b[0m \u001b[0mleft\u001b[0m\u001b[0;34m\u001b[0m\u001b[0m\n\u001b[1;32m      3\u001b[0m \u001b[0;34m[\u001b[0m\u001b[0;36m0.\u001b[0m\u001b[0;34m,\u001b[0m \u001b[0;36m0.\u001b[0m\u001b[0;34m,\u001b[0m \u001b[0;36m1.\u001b[0m\u001b[0;34m,\u001b[0m \u001b[0;36m0.\u001b[0m\u001b[0;34m,\u001b[0m \u001b[0;36m0.\u001b[0m\u001b[0;34m]\u001b[0m\u001b[0;34m,\u001b[0m \u001b[0mrest\u001b[0m\u001b[0;34m\u001b[0m\u001b[0m\n\u001b[1;32m      4\u001b[0m \u001b[0;34m[\u001b[0m\u001b[0;36m0.\u001b[0m\u001b[0;34m,\u001b[0m \u001b[0;36m0.\u001b[0m\u001b[0;34m,\u001b[0m \u001b[0;36m0.\u001b[0m\u001b[0;34m,\u001b[0m \u001b[0;36m1.\u001b[0m\u001b[0;34m,\u001b[0m \u001b[0;36m0.\u001b[0m\u001b[0;34m]\u001b[0m\u001b[0;34m,\u001b[0m \u001b[0mright\u001b[0m\u001b[0;34m\u001b[0m\u001b[0m\n\u001b[1;32m      5\u001b[0m \u001b[0;34m[\u001b[0m\u001b[0;36m0.\u001b[0m\u001b[0;34m,\u001b[0m \u001b[0;36m0.\u001b[0m\u001b[0;34m,\u001b[0m \u001b[0;36m0.\u001b[0m\u001b[0;34m,\u001b[0m \u001b[0;36m0.\u001b[0m\u001b[0;34m,\u001b[0m \u001b[0;36m1.\u001b[0m\u001b[0;34m]\u001b[0m\u001b[0;34m,\u001b[0m \u001b[0mup\u001b[0m\u001b[0;34m\u001b[0m\u001b[0m\n",
      "\u001b[0;31mNameError\u001b[0m: name 'down' is not defined"
     ]
    }
   ],
   "source": [
    "[1., 0., 0., 0., 0.], down\n",
    "[0., 1., 0., 0., 0.], left\n",
    "[0., 0., 1., 0., 0.], rest\n",
    "[0., 0., 0., 1., 0.], right\n",
    "[0., 0., 0., 0., 1.], up"
   ]
  },
  {
   "cell_type": "code",
   "execution_count": null,
   "metadata": {
    "scrolled": true
   },
   "outputs": [],
   "source": [
    "import keras_metrics\n",
    "\n",
    "network = build_model()\n",
    "\n",
    "# Adam = Adam(lr=0.05)\n",
    "network.compile(optimizer=\"Adam\",\n",
    "              loss=\"categorical_crossentropy\",\n",
    "              metrics=[keras_metrics.precision(), keras_metrics.recall()])\n",
    "\n",
    "network.summary()\n",
    "\n",
    "history = network.fit(x_train, y_train,\n",
    "                      epochs=100, verbose=1, batch_size=2)\n",
    "\n",
    "loss_and_metrics = network.evaluate(x_test, y_test)\n",
    "print('loss and metrics', loss_and_metrics)\n",
    "\n",
    "%matplotlib inline \n",
    "import matplotlib.pyplot as plt\n",
    "\n",
    "# Plot training & validation accuracy values\n",
    "plt.plot(history.history['precision'])\n",
    "plt.title('Model accuracy')\n",
    "plt.ylabel('precision')\n",
    "plt.xlabel('Epoch')\n",
    "plt.legend(['Train', 'Test'], loc='upper left')\n",
    "plt.show()\n",
    "\n",
    "# Plot training & validation loss values\n",
    "plt.plot(history.history['recall'])\n",
    "plt.title('recall')\n",
    "plt.ylabel('Loss')\n",
    "plt.xlabel('Epoch')\n",
    "plt.legend(['Train', 'Test'], loc='upper left')\n",
    "plt.show()"
   ]
  },
  {
   "cell_type": "code",
   "execution_count": null,
   "metadata": {},
   "outputs": [],
   "source": [
    "# Plot training & validation accuracy values\n",
    "plt.plot(history.history['precision'])\n",
    "plt.title('precision')\n",
    "plt.ylabel('precision')\n",
    "plt.xlabel('Epoch')\n",
    "plt.legend(['Train', 'Test'], loc='upper left')\n",
    "plt.show()\n",
    "\n",
    "# Plot training & validation loss values\n",
    "plt.plot(history.history['recall'])\n",
    "plt.title('recall')\n",
    "plt.ylabel('precision')\n",
    "plt.xlabel('Epoch')\n",
    "plt.legend(['Train', 'Test'], loc='upper left')\n",
    "plt.show()"
   ]
  },
  {
   "cell_type": "code",
   "execution_count": null,
   "metadata": {},
   "outputs": [],
   "source": []
  }
 ],
 "metadata": {
  "kernelspec": {
   "display_name": "Python 3",
   "language": "python",
   "name": "python3"
  },
  "language_info": {
   "codemirror_mode": {
    "name": "ipython",
    "version": 3
   },
   "file_extension": ".py",
   "mimetype": "text/x-python",
   "name": "python",
   "nbconvert_exporter": "python",
   "pygments_lexer": "ipython3",
   "version": "3.6.6"
  }
 },
 "nbformat": 4,
 "nbformat_minor": 2
}
