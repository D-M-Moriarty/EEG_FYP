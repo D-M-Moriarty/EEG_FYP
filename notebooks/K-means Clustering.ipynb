{
 "cells": [
  {
   "cell_type": "code",
   "execution_count": 2,
   "metadata": {},
   "outputs": [],
   "source": [
    "import pandas as pd\n",
    "import numpy as np\n",
    "from sklearn import model_selection\n",
    "from sklearn.ensemble import RandomForestClassifier\n",
    "from sklearn.model_selection import train_test_split\n",
    "from sklearn.preprocessing import LabelBinarizer\n",
    "from sklearn import preprocessing\n",
    "%matplotlib inline \n",
    "import matplotlib.pyplot as plt \n",
    "\n",
    "rest = pd.read_csv(\"../data_files/data_from_android_api/rest/rest_25_mins.csv\")\n",
    "\n",
    "forward_android1 = pd.read_csv(\"../data_files/data_from_android_api/forward/forward_5mins_1.csv\")\n",
    "forward_android2 = pd.read_csv(\"../data_files/data_from_android_api/forward/forward_5mins_2.csv\")\n",
    "forward_android3 = pd.read_csv(\"../data_files/data_from_android_api/forward/forward_5mins_3.csv\")\n",
    "forward_android4 = pd.read_csv(\"../data_files/data_from_android_api/forward/forward_5mins_4.csv\")\n",
    "forward_android5 = pd.read_csv(\"../data_files/data_from_android_api/forward/forward_5mins_5.csv\")\n",
    "\n",
    "back1 = pd.read_csv('../data_files/data_from_android_api/back/back_5mins_1.csv')\n",
    "back2 = pd.read_csv('../data_files/data_from_android_api/back/back_5mins_2.csv')\n",
    "back3 = pd.read_csv('../data_files/data_from_android_api/back/back_5mins_3.csv')\n",
    "back4 = pd.read_csv('../data_files/data_from_android_api/back/back_5mins_4.csv')\n",
    "back5 = pd.read_csv('../data_files/data_from_android_api/back/back_5mins_5.csv')\n",
    "\n",
    "forward = pd.concat([forward_android1, forward_android2, forward_android3,\n",
    "                     forward_android4, forward_android5])\n",
    "\n",
    "back = pd.concat([back1, back2, back3, back4, back5])\n",
    "\n",
    "dataDF = pd.concat([forward, back, rest])"
   ]
  },
  {
   "cell_type": "code",
   "execution_count": 9,
   "metadata": {},
   "outputs": [
    {
     "data": {
      "text/html": [
       "<div>\n",
       "<style scoped>\n",
       "    .dataframe tbody tr th:only-of-type {\n",
       "        vertical-align: middle;\n",
       "    }\n",
       "\n",
       "    .dataframe tbody tr th {\n",
       "        vertical-align: top;\n",
       "    }\n",
       "\n",
       "    .dataframe thead th {\n",
       "        text-align: right;\n",
       "    }\n",
       "</style>\n",
       "<table border=\"1\" class=\"dataframe\">\n",
       "  <thead>\n",
       "    <tr style=\"text-align: right;\">\n",
       "      <th></th>\n",
       "      <th>delta</th>\n",
       "      <th>theta</th>\n",
       "      <th>alphaLow</th>\n",
       "      <th>alphaHigh</th>\n",
       "      <th>betaLow</th>\n",
       "      <th>betaHigh</th>\n",
       "      <th>gammaLow</th>\n",
       "      <th>gammaMid</th>\n",
       "    </tr>\n",
       "  </thead>\n",
       "  <tbody>\n",
       "    <tr>\n",
       "      <th>0</th>\n",
       "      <td>0.017475</td>\n",
       "      <td>0.010113</td>\n",
       "      <td>0.999591</td>\n",
       "      <td>0.001707</td>\n",
       "      <td>0.001678</td>\n",
       "      <td>0.000406</td>\n",
       "      <td>0.000303</td>\n",
       "      <td>0.000333</td>\n",
       "    </tr>\n",
       "    <tr>\n",
       "      <th>1</th>\n",
       "      <td>0.013090</td>\n",
       "      <td>0.005034</td>\n",
       "      <td>0.998343</td>\n",
       "      <td>0.999758</td>\n",
       "      <td>0.998409</td>\n",
       "      <td>0.998079</td>\n",
       "      <td>0.001040</td>\n",
       "      <td>0.000698</td>\n",
       "    </tr>\n",
       "    <tr>\n",
       "      <th>2</th>\n",
       "      <td>0.072912</td>\n",
       "      <td>0.004117</td>\n",
       "      <td>0.000351</td>\n",
       "      <td>0.001174</td>\n",
       "      <td>0.000335</td>\n",
       "      <td>0.000263</td>\n",
       "      <td>0.000188</td>\n",
       "      <td>0.000073</td>\n",
       "    </tr>\n",
       "    <tr>\n",
       "      <th>3</th>\n",
       "      <td>0.003126</td>\n",
       "      <td>0.998979</td>\n",
       "      <td>0.999931</td>\n",
       "      <td>0.001390</td>\n",
       "      <td>0.999863</td>\n",
       "      <td>0.998845</td>\n",
       "      <td>0.000931</td>\n",
       "      <td>0.000791</td>\n",
       "    </tr>\n",
       "    <tr>\n",
       "      <th>4</th>\n",
       "      <td>0.000323</td>\n",
       "      <td>0.000940</td>\n",
       "      <td>0.000602</td>\n",
       "      <td>0.001777</td>\n",
       "      <td>0.999835</td>\n",
       "      <td>0.001110</td>\n",
       "      <td>0.000554</td>\n",
       "      <td>0.000441</td>\n",
       "    </tr>\n",
       "  </tbody>\n",
       "</table>\n",
       "</div>"
      ],
      "text/plain": [
       "      delta     theta  alphaLow  alphaHigh   betaLow  betaHigh  gammaLow  \\\n",
       "0  0.017475  0.010113  0.999591   0.001707  0.001678  0.000406  0.000303   \n",
       "1  0.013090  0.005034  0.998343   0.999758  0.998409  0.998079  0.001040   \n",
       "2  0.072912  0.004117  0.000351   0.001174  0.000335  0.000263  0.000188   \n",
       "3  0.003126  0.998979  0.999931   0.001390  0.999863  0.998845  0.000931   \n",
       "4  0.000323  0.000940  0.000602   0.001777  0.999835  0.001110  0.000554   \n",
       "\n",
       "   gammaMid  \n",
       "0  0.000333  \n",
       "1  0.000698  \n",
       "2  0.000073  \n",
       "3  0.000791  \n",
       "4  0.000441  "
      ]
     },
     "execution_count": 9,
     "metadata": {},
     "output_type": "execute_result"
    }
   ],
   "source": [
    "df = dataDF.drop(['action'], axis=1)\n",
    "df_norm = (df - df.min()) / (df.max() - df.min())\n",
    "df_norm.head() "
   ]
  },
  {
   "cell_type": "code",
   "execution_count": 10,
   "metadata": {},
   "outputs": [
    {
     "data": {
      "text/plain": [
       "KMeans(algorithm='auto', copy_x=True, init='k-means++', max_iter=300,\n",
       "    n_clusters=3, n_init=10, n_jobs=None, precompute_distances='auto',\n",
       "    random_state=None, tol=0.0001, verbose=0)"
      ]
     },
     "execution_count": 10,
     "metadata": {},
     "output_type": "execute_result"
    }
   ],
   "source": [
    "from sklearn.cluster import KMeans\n",
    "model=KMeans(n_clusters=3)\n",
    "model.fit(df)"
   ]
  },
  {
   "cell_type": "code",
   "execution_count": 12,
   "metadata": {},
   "outputs": [
    {
     "data": {
      "text/html": [
       "<div>\n",
       "<style scoped>\n",
       "    .dataframe tbody tr th:only-of-type {\n",
       "        vertical-align: middle;\n",
       "    }\n",
       "\n",
       "    .dataframe tbody tr th {\n",
       "        vertical-align: top;\n",
       "    }\n",
       "\n",
       "    .dataframe thead th {\n",
       "        text-align: right;\n",
       "    }\n",
       "</style>\n",
       "<table border=\"1\" class=\"dataframe\">\n",
       "  <thead>\n",
       "    <tr style=\"text-align: right;\">\n",
       "      <th></th>\n",
       "      <th>delta</th>\n",
       "      <th>theta</th>\n",
       "      <th>alphaLow</th>\n",
       "      <th>alphaHigh</th>\n",
       "      <th>betaLow</th>\n",
       "      <th>betaHigh</th>\n",
       "      <th>gammaLow</th>\n",
       "      <th>gammaMid</th>\n",
       "      <th>clust</th>\n",
       "    </tr>\n",
       "  </thead>\n",
       "  <tbody>\n",
       "    <tr>\n",
       "      <th>0</th>\n",
       "      <td>0.017475</td>\n",
       "      <td>0.010113</td>\n",
       "      <td>0.999591</td>\n",
       "      <td>0.001707</td>\n",
       "      <td>0.001678</td>\n",
       "      <td>0.000406</td>\n",
       "      <td>0.000303</td>\n",
       "      <td>0.000333</td>\n",
       "      <td>2</td>\n",
       "    </tr>\n",
       "    <tr>\n",
       "      <th>1</th>\n",
       "      <td>0.013090</td>\n",
       "      <td>0.005034</td>\n",
       "      <td>0.998343</td>\n",
       "      <td>0.999758</td>\n",
       "      <td>0.998409</td>\n",
       "      <td>0.998079</td>\n",
       "      <td>0.001040</td>\n",
       "      <td>0.000698</td>\n",
       "      <td>2</td>\n",
       "    </tr>\n",
       "    <tr>\n",
       "      <th>2</th>\n",
       "      <td>0.072912</td>\n",
       "      <td>0.004117</td>\n",
       "      <td>0.000351</td>\n",
       "      <td>0.001174</td>\n",
       "      <td>0.000335</td>\n",
       "      <td>0.000263</td>\n",
       "      <td>0.000188</td>\n",
       "      <td>0.000073</td>\n",
       "      <td>0</td>\n",
       "    </tr>\n",
       "    <tr>\n",
       "      <th>3</th>\n",
       "      <td>0.003126</td>\n",
       "      <td>0.998979</td>\n",
       "      <td>0.999931</td>\n",
       "      <td>0.001390</td>\n",
       "      <td>0.999863</td>\n",
       "      <td>0.998845</td>\n",
       "      <td>0.000931</td>\n",
       "      <td>0.000791</td>\n",
       "      <td>1</td>\n",
       "    </tr>\n",
       "    <tr>\n",
       "      <th>4</th>\n",
       "      <td>0.000323</td>\n",
       "      <td>0.000940</td>\n",
       "      <td>0.000602</td>\n",
       "      <td>0.001777</td>\n",
       "      <td>0.999835</td>\n",
       "      <td>0.001110</td>\n",
       "      <td>0.000554</td>\n",
       "      <td>0.000441</td>\n",
       "      <td>0</td>\n",
       "    </tr>\n",
       "  </tbody>\n",
       "</table>\n",
       "</div>"
      ],
      "text/plain": [
       "      delta     theta  alphaLow  alphaHigh   betaLow  betaHigh  gammaLow  \\\n",
       "0  0.017475  0.010113  0.999591   0.001707  0.001678  0.000406  0.000303   \n",
       "1  0.013090  0.005034  0.998343   0.999758  0.998409  0.998079  0.001040   \n",
       "2  0.072912  0.004117  0.000351   0.001174  0.000335  0.000263  0.000188   \n",
       "3  0.003126  0.998979  0.999931   0.001390  0.999863  0.998845  0.000931   \n",
       "4  0.000323  0.000940  0.000602   0.001777  0.999835  0.001110  0.000554   \n",
       "\n",
       "   gammaMid  clust  \n",
       "0  0.000333      2  \n",
       "1  0.000698      2  \n",
       "2  0.000073      0  \n",
       "3  0.000791      1  \n",
       "4  0.000441      0  "
      ]
     },
     "execution_count": 12,
     "metadata": {},
     "output_type": "execute_result"
    }
   ],
   "source": [
    "md=pd.Series(model.labels_)\n",
    "df_norm['clust']=md\n",
    "df_norm.head()\n"
   ]
  },
  {
   "cell_type": "code",
   "execution_count": 13,
   "metadata": {},
   "outputs": [
    {
     "data": {
      "text/plain": [
       "Text(0, 0.5, 'Frequency')"
      ]
     },
     "execution_count": 13,
     "metadata": {},
     "output_type": "execute_result"
    },
    {
     "data": {
      "image/png": "[encoded data removed]",
      "text/plain": [
       "<Figure size 432x288 with 1 Axes>"
      ]
     },
     "metadata": {
      "needs_background": "light"
     },
     "output_type": "display_data"
    }
   ],
   "source": [
    "import matplotlib.pyplot as plt\n",
    "plt.hist(df_norm['clust'])\n",
    "plt.title('Histogram of Clusters')\n",
    "plt.xlabel('Cluster')\n",
    "plt.ylabel('Frequency')"
   ]
  },
  {
   "cell_type": "code",
   "execution_count": 14,
   "metadata": {},
   "outputs": [
    {
     "data": {
      "text/plain": [
       "1544"
      ]
     },
     "execution_count": 14,
     "metadata": {},
     "output_type": "execute_result"
    }
   ],
   "source": [
    "len(rest)"
   ]
  },
  {
   "cell_type": "code",
   "execution_count": 15,
   "metadata": {},
   "outputs": [
    {
     "data": {
      "text/plain": [
       "1612"
      ]
     },
     "execution_count": 15,
     "metadata": {},
     "output_type": "execute_result"
    }
   ],
   "source": [
    "len(forward)"
   ]
  },
  {
   "cell_type": "code",
   "execution_count": 16,
   "metadata": {},
   "outputs": [
    {
     "data": {
      "text/plain": [
       "1517"
      ]
     },
     "execution_count": 16,
     "metadata": {},
     "output_type": "execute_result"
    }
   ],
   "source": [
    "len(back)"
   ]
  },
  {
   "cell_type": "code",
   "execution_count": null,
   "metadata": {},
   "outputs": [],
   "source": []
  }
 ],
 "metadata": {
  "kernelspec": {
   "display_name": "Python 3",
   "language": "python",
   "name": "python3"
  },
  "language_info": {
   "codemirror_mode": {
    "name": "ipython",
    "version": 3
   },
   "file_extension": ".py",
   "mimetype": "text/x-python",
   "name": "python",
   "nbconvert_exporter": "python",
   "pygments_lexer": "ipython3",
   "version": "3.6.6"
  }
 },
 "nbformat": 4,
 "nbformat_minor": 2
}
